{
 "cells": [
  {
   "cell_type": "markdown",
   "metadata": {},
   "source": [
    "# Robin Hood\n",
    "## Intro\n",
    "We are in a competition to win the archery contest in Sherwood. With our bow and arrows we shoot on a target and try to hit as close as possible to the center.\n",
    "\n",
    "The center of the target is represented by the values (0, 0) on the coordinate axes.\n",
    "\n",
    "![](images/arrows.jpg)\n",
    "\n",
    "## Goals:\n",
    "* data structures: lists, sets, tuples\n",
    "* logical operators: if-elif-else\n",
    "* loop: while/for\n",
    "* minimum (optional sorting)\n",
    "\n",
    "## Description:\n",
    "In the 2-dimensional space, a point can be defined by a pair of values that correspond to the horizontal coordinate (x) and the vertical coordinate (y). The space can be divided into 4 zones (quadrants): Q1, Q2, Q3, Q4. Whose single point of union is the point (0, 0).\n",
    "\n",
    "If a point is in Q1 both its x coordinate and the y are positive. I leave a link to wikipedia to familiarize yourself with these quadrants.\n",
    "\n",
    "https://en.wikipedia.org/wiki/Cartesian_coordinate_system\n",
    "\n",
    "https://en.wikipedia.org/wiki/Euclidean_distance\n",
    "\n",
    "## Shots\n",
    "```\n",
    "points = [(4, 5), (-0, 2), (4, 7), (1, -3), (3, -2), (4, 5),\n",
    "          (3, 2), (5, 7), (-5, 7), (2, 2), (-4, 5), (0, -2),\n",
    "          (-4, 7), (-1, 3), (-3, 2), (-4, -5), (-3, 2),\n",
    "          (5, 7), (5, 7), (2, 2), (9, 9), (-8, -9)]\n",
    "```\n",
    "\n",
    "## Tasks\n",
    "1. Robin Hood is famous for hitting an arrow with another arrow. Did you get it?\n",
    "2. Calculate how many arrows have fallen in each quadrant.\n",
    "3. Find the point closest to the center. Calculate its distance to the center. \n",
    "4. If the target has a radius of 9, calculate the number of arrows that must be picked up in the forest."
   ]
  },
  {
   "cell_type": "code",
   "execution_count": 1,
   "metadata": {},
   "outputs": [],
   "source": [
    "# Variables\n",
    "\n",
    "points = [(4, 5), (-0, 2), (4, 7), (1, -3), (3, -2), (4, 5),\n",
    "(3, 2), (5, 7), (-5, 7), (2, 2), (-4, 5), (0, -2),\n",
    "(-4, 7), (-1, 3), (-3, 2), (-4, -5), (-3, 2),\n",
    "(5, 7), (5, 7), (2, 2), (9, 9), (-8, -9)]\n"
   ]
  },
  {
   "cell_type": "code",
   "execution_count": 16,
   "metadata": {},
   "outputs": [
    {
     "name": "stdout",
     "output_type": "stream",
     "text": [
      "True\n"
     ]
    }
   ],
   "source": [
    "# 1. Robin Hood is famous for hitting an arrow with another arrow. Did you get it?\n",
    "\n",
    "points = [(4, 5), (-0, 2), (4, 7), (1, -3), (3, -2), (4, 5),\n",
    "(3, 2), (5, 7), (-5, 7), (2, 2), (-4, 5), (0, -2),\n",
    "(-4, 7), (-1, 3), (-3, 2), (-4, -5), (-3, 2),\n",
    "(5, 7), (5, 7), (2, 2), (9, 9), (-8, -9)]\n",
    "longitud_points=len(points)\n",
    "\n",
    "sin_duplicados=set(points)\n",
    "longitud_sin_duplicados=len(sin_duplicados)\n",
    "\n",
    "if longitud_points>longitud_sin_duplicados:\n",
    "    print(True)\n",
    "else:\n",
    "    print(False)"
   ]
  },
  {
   "cell_type": "markdown",
   "metadata": {},
   "source": [
    "**Expected output**:\n",
    "```\n",
    "True\n",
    "```"
   ]
  },
  {
   "cell_type": "code",
   "execution_count": 20,
   "metadata": {},
   "outputs": [
    {
     "name": "stdout",
     "output_type": "stream",
     "text": [
      "10\n",
      "6\n",
      "2\n",
      "2\n"
     ]
    }
   ],
   "source": [
    "# 2. Calculate how many arrows have fallen in each quadrant.\n",
    "cuadrante1=0\n",
    "cuadrante2=0\n",
    "cuadrante3=0\n",
    "cuadrante4=0\n",
    "\n",
    "for x,y in points:\n",
    "\n",
    "    if x>0 and y>0:\n",
    "        cuadrante1+=1\n",
    "    elif x<0 and y>0:\n",
    "        cuadrante2+=1\n",
    "    elif x<0 and y<0:\n",
    "        cuadrante3+=1\n",
    "    elif x>0 and y<0:\n",
    "        cuadrante4+=1\n",
    "\n",
    "print(cuadrante1)\n",
    "print(cuadrante2)\n",
    "print(cuadrante3)\n",
    "print(cuadrante4)\n"
   ]
  },
  {
   "cell_type": "markdown",
   "metadata": {},
   "source": [
    "**Expected output**:\n",
    "```\n",
    "(10, 6, 2, 2)\n",
    "```"
   ]
  },
  {
   "cell_type": "code",
   "execution_count": 49,
   "metadata": {},
   "outputs": [
    {
     "name": "stdout",
     "output_type": "stream",
     "text": [
      "[41, 4, 65, 10, 13, 41, 13, 74, 74, 8, 41, 4, 65, 10, 13, 41, 13, 74, 74, 8, 162, 145]\n",
      "Los valores más ceranos son = (0, 2)\n",
      "Los valores más ceranos son = (0, -2)\n"
     ]
    }
   ],
   "source": [
    "# 3. Find the point closest to the center. Calculate its distance to the center\n",
    "# Defining a function that calculates the distance to the center can help.\n",
    "#variable auxiliar, ponemos un numero alto para que se pueda iterar y que siempre sea menor a la lista de 'points'\n",
    "\n",
    "points = [(4, 5), (-0, 2), (4, 7), (1, -3), (3, -2), (4, 5), (3, 2), (5, 7), (-5, 7), (2, 2), (-4, 5), (0, -2), (-4, 7), (-1, 3), (-3, 2), (-4, -5), (-3, 2),\n",
    "(5, 7), (5, 7), (2, 2), (9, 9), (-8, -9)]\n",
    "\n",
    "lista_distancia=[]\n",
    "for x,y in points:\n",
    "    hipotenusa_al_cuadrado=x**2+y**2\n",
    "    lista_distancia.append(hipotenusa_al_cuadrado)\n",
    "print(lista_distancia)\n",
    "\n",
    "minimos=min(lista_distancia)\n",
    "\n",
    "for x,y in points:\n",
    "    if minimos==x**2+y**2:\n",
    "        print('Los valores más ceranos son =',(x,y))"
   ]
  },
  {
   "cell_type": "markdown",
   "metadata": {},
   "source": [
    "**Expected output**:\n",
    "```\n",
    "(0, 2)\n",
    "2.0\n",
    "```"
   ]
  },
  {
   "cell_type": "code",
   "execution_count": 89,
   "metadata": {},
   "outputs": [
    {
     "name": "stdout",
     "output_type": "stream",
     "text": [
      "[(9, 9), (-8, -9)]\n",
      "2\n"
     ]
    }
   ],
   "source": [
    "# 4. If the target has a radius of 9, calculate the number of arrows that \n",
    "# must be picked up in the forest.\n",
    "\n",
    "arrows_in_the_forest=[]\n",
    "target=9\n",
    "\n",
    "for x,y in points:\n",
    "    hipotenusa_al_cuadrado=x**2+y**2\n",
    "    if hipotenusa_al_cuadrado>target**2:\n",
    "        arrows_in_the_forest.append((x,y))\n",
    "\n",
    "print(arrows_in_the_forest)\n",
    "print(len(arrows_in_the_forest))"
   ]
  },
  {
   "cell_type": "markdown",
   "metadata": {},
   "source": [
    "**Expected output**:\n",
    "```\n",
    "[(9, 9), (-8, -9)]\n",
    "2\n",
    "```"
   ]
  },
  {
   "cell_type": "code",
   "execution_count": null,
   "metadata": {},
   "outputs": [],
   "source": []
  }
 ],
 "metadata": {
  "kernelspec": {
   "display_name": "Python 3",
   "language": "python",
   "name": "python3"
  },
  "language_info": {
   "codemirror_mode": {
    "name": "ipython",
    "version": 3
   },
   "file_extension": ".py",
   "mimetype": "text/x-python",
   "name": "python",
   "nbconvert_exporter": "python",
   "pygments_lexer": "ipython3",
   "version": "3.7.4"
  }
 },
 "nbformat": 4,
 "nbformat_minor": 2
}

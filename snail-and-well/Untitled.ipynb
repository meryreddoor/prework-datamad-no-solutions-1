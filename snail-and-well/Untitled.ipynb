{
 "cells": [
  {
   "cell_type": "code",
   "execution_count": null,
   "metadata": {},
   "outputs": [],
   "source": [
    "# Assign problem data to variables with representative names\n",
    "# well height, daily advance, night retreat, accumulated distance\n",
    "\n",
    "altura_total=125\n",
    "altura_conseguida_caracol=30\n",
    "altura_caida_caracol=-20\n",
    "\n",
    "# Assign 0 to the variable that represents the solution\n",
    "\n",
    "posicion_caracol=0\n",
    "days=0 \n",
    "\n",
    "# Write the code that solves the problem\n",
    "\n",
    "while altura_conseguida_caracol<altura_total:\n",
    "    posicion_caracol+=altura_conseguida_caracol\n",
    "    posicion_caracol+=altura_caida_caracol\n",
    "print(posicion_caracol)"
   ]
  },
  {
   "cell_type": "code",
   "execution_count": null,
   "metadata": {},
   "outputs": [],
   "source": []
  }
 ],
 "metadata": {
  "kernelspec": {
   "display_name": "Python 3",
   "language": "python",
   "name": "python3"
  }
 },
 "nbformat": 4,
 "nbformat_minor": 2
}

{
 "cells": [
  {
   "cell_type": "markdown",
   "metadata": {},
   "source": [
    "# Snail and well\n",
    "\n",
    "A snail falls at the bottom of a 125 cm well. Each day the snail rises 30 cm. But at night, while sleeping, slides 20 cm because the walls are wet. How many days does it take to escape from the well?\n",
    "\n",
    "TIP: http://puzzles.nigelcoldwell.co.uk/sixtytwo.htm"
   ]
  },
  {
   "cell_type": "markdown",
   "metadata": {},
   "source": [
    "## Solución"
   ]
  },
  {
   "cell_type": "code",
   "execution_count": 9,
   "metadata": {},
   "outputs": [
    {
     "name": "stdout",
     "output_type": "stream",
     "text": [
      "Days = 11\n"
     ]
    }
   ],
   "source": [
    "# Assign problem data to variables with representative names\n",
    "# well height, daily advance, night retreat, accumulated distance\n",
    "\n",
    "altura_total=125\n",
    "altura_conseguida_caracol=30\n",
    "altura_caida_caracol=20\n",
    "\n",
    "# Assign 0 to the variable that represents the solution\n",
    "\n",
    "posicion_caracol=0\n",
    "days=0 \n",
    "\n",
    "# Write the code that solves the problem\n",
    "\n",
    "while posicion_caracol<altura_total:\n",
    "    posicion_caracol+=altura_conseguida_caracol\n",
    "    days+=1\n",
    "    if posicion_caracol<altura_total:\n",
    "        posicion_caracol-=altura_caida_caracol\n",
    "\n",
    "print('Days =',days)\n"
   ]
  },
  {
   "cell_type": "markdown",
   "metadata": {},
   "source": [
    "**Expected output**: \n",
    "```\n",
    "Days = 11\n",
    "```"
   ]
  },
  {
   "cell_type": "markdown",
   "metadata": {},
   "source": [
    "## Goals\n",
    "\n",
    "1. Treatment of variables\n",
    "2. Use of loop **while**\n",
    "3. Use of conditional **if-else**\n",
    "4. Print in console"
   ]
  },
  {
   "cell_type": "markdown",
   "metadata": {},
   "source": [
    "## Bonus\n",
    "The distance traveled by the snail is now defined by a list.\n",
    "```\n",
    "advance_cm = [30, 21, 33, 77, 44, 45, 23, 45, 12, 34, 55]\n",
    "```\n",
    "How long does it take to raise the well?\n",
    "\n",
    "What is its maximum displacement in one day? And its minimum?\n",
    "\n",
    "What is its average speed during the day?\n",
    "\n",
    "What is the standard deviation of its displacement during the day?"
   ]
  },
  {
   "cell_type": "code",
   "execution_count": 19,
   "metadata": {},
   "outputs": [
    {
     "name": "stdout",
     "output_type": "stream",
     "text": [
      "Day = 6\n"
     ]
    }
   ],
   "source": [
    "# Assign problem data to variables with representative names\n",
    "# well height, daily advance, night retreat, accumulated distance\n",
    "\n",
    "altura_conseguida_caracol= [30, 21, 33, 77, 44, 45, 23, 45, 12, 34, 55]\n",
    "altura_perdida=20\n",
    "altura_total=125\n",
    "\n",
    "# Assign 0 to the variable that represents the solution\n",
    "\n",
    "posicion_caracol=0\n",
    "days=0\n",
    "\n",
    "# Write the code that solves the problem\n",
    "\n",
    "for x in altura_conseguida_caracol:\n",
    "    if posicion_caracol<=altura_total:\n",
    "        posicion_caracol+=x\n",
    "        days+=1\n",
    "    if posicion_caracol<altura_total:\n",
    "        posicion_caracol-=altura_perdida\n",
    "# Print the result with print('Days =', days)\n",
    "print('Day =',days)"
   ]
  },
  {
   "cell_type": "markdown",
   "metadata": {},
   "source": [
    "**Expected output**: \n",
    "```\n",
    "Days = 6\n",
    "```"
   ]
  },
  {
   "cell_type": "code",
   "execution_count": 15,
   "metadata": {},
   "outputs": [
    {
     "name": "stdout",
     "output_type": "stream",
     "text": [
      "the max. is 77\n",
      "the min. is 12\n"
     ]
    }
   ],
   "source": [
    "# What is its maximum displacement in a day? And its minimum?\n",
    "maximo=max(altura_conseguida_caracol)\n",
    "print('the max. is', maximo)\n",
    "minimo=min(altura_conseguida_caracol)\n",
    "print('the min. is',minimo)\n"
   ]
  },
  {
   "cell_type": "markdown",
   "metadata": {},
   "source": [
    "**Expected output**: \n",
    "```\n",
    "77 12\n",
    "```"
   ]
  },
  {
   "cell_type": "code",
   "execution_count": 16,
   "metadata": {},
   "outputs": [
    {
     "name": "stdout",
     "output_type": "stream",
     "text": [
      "the average progress is 38.09090909090909\n"
     ]
    }
   ],
   "source": [
    "# What is its average progress?\n",
    "media= sum(altura_conseguida_caracol)/len(altura_conseguida_caracol)\n",
    "print('the average progress is',media)"
   ]
  },
  {
   "cell_type": "markdown",
   "metadata": {},
   "source": [
    "**Expected output**: \n",
    "```\n",
    "38.09090909090909\n",
    "```"
   ]
  },
  {
   "cell_type": "code",
   "execution_count": 17,
   "metadata": {},
   "outputs": [
    {
     "data": {
      "text/plain": [
       "17.159437082600803"
      ]
     },
     "execution_count": 17,
     "metadata": {},
     "output_type": "execute_result"
    }
   ],
   "source": [
    "# What is the standard deviation of your displacement during the day?\n",
    "altura_conseguida_caracol= [30, 21, 33, 77, 44, 45, 23, 45, 12, 34, 55]\n",
    "import statistics\n",
    "statistics.pstdev(altura_conseguida_caracol)"
   ]
  },
  {
   "cell_type": "markdown",
   "metadata": {},
   "source": [
    "**Expected output**: \n",
    "```\n",
    "17.159437082600803\n",
    "```"
   ]
  }
 ],
 "metadata": {
  "kernelspec": {
   "display_name": "Python 3",
   "language": "python",
   "name": "python3"
  },
  "language_info": {
   "codemirror_mode": {
    "name": "ipython",
    "version": 3
   },
   "file_extension": ".py",
   "mimetype": "text/x-python",
   "name": "python",
   "nbconvert_exporter": "python",
   "pygments_lexer": "ipython3",
   "version": "3.7.4"
  }
 },
 "nbformat": 4,
 "nbformat_minor": 2
}
